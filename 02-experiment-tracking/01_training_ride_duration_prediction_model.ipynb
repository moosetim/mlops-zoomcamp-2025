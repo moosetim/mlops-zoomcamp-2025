{
 "cells": [
  {
   "cell_type": "markdown",
   "id": "1f8625b2",
   "metadata": {},
   "source": [
    "# Libraries"
   ]
  },
  {
   "cell_type": "code",
   "execution_count": 1,
   "id": "2859a5df",
   "metadata": {},
   "outputs": [
    {
     "name": "stdout",
     "output_type": "stream",
     "text": [
      "Python 3.12.1\n"
     ]
    }
   ],
   "source": [
    "!python -V # --version"
   ]
  },
  {
   "cell_type": "code",
   "execution_count": 2,
   "id": "75c64617",
   "metadata": {},
   "outputs": [],
   "source": [
    "import pandas as pd\n",
    "import seaborn as sns\n",
    "import matplotlib.pyplot as plt\n",
    "\n",
    "from sklearn.feature_extraction import DictVectorizer\n",
    "from sklearn.linear_model import LinearRegression\n",
    "from sklearn.linear_model import Lasso\n",
    "from sklearn.linear_model import Ridge\n",
    "\n",
    "from sklearn.metrics import root_mean_squared_error\n",
    "\n",
    "import pickle # To be able to save the model"
   ]
  },
  {
   "cell_type": "code",
   "execution_count": null,
   "id": "1e10d866",
   "metadata": {},
   "outputs": [
    {
     "name": "stderr",
     "output_type": "stream",
     "text": [
      "2025/05/23 19:11:13 INFO mlflow.tracking.fluent: Experiment with name 'nyc-taxi-experiment' does not exist. Creating a new experiment.\n"
     ]
    },
    {
     "data": {
      "text/plain": [
       "<Experiment: artifact_location='/workspaces/mlops-zoomcamp-2025/02-experiment-tracking/mlruns/1', creation_time=1748027473246, experiment_id='1', last_update_time=1748027473246, lifecycle_stage='active', name='nyc-taxi-experiment', tags={}>"
      ]
     },
     "execution_count": 3,
     "metadata": {},
     "output_type": "execute_result"
    }
   ],
   "source": [
    "import mlflow\n",
    "\n",
    "mlflow.set_tracking_uri('sqlite:///mlflow.db')\n",
    "mlflow.set_experiment('nyc-taxi-experiment') # Set experiment name. MLflow will create it if it doesn't exist and assigns all runs to it."
   ]
  },
  {
   "cell_type": "code",
   "execution_count": 4,
   "id": "9461b31a",
   "metadata": {},
   "outputs": [],
   "source": [
    "# Output:\n",
    "# Experiment with name 'nyc-taxi-experiment' does not exist. Creating a new experiment.\n",
    "# <Experiment: artifact_location='/workspaces/mlops-zoomcamp-2025/02-experiment-tracking/mlruns/1', creation_time=1748027473246, experiment_id='1', last_update_time=1748027473246, lifecycle_stage='active', name='nyc-taxi-experiment', tags={}>"
   ]
  },
  {
   "cell_type": "code",
   "execution_count": 23,
   "id": "1c277593",
   "metadata": {},
   "outputs": [],
   "source": [
    "import xgboost as xgb\n",
    "\n",
    "from hyperopt import fmin, tpe, hp, STATUS_OK, Trials\n",
    "from hyperopt.pyll import scope\n",
    "\n",
    "# hyperopt - library that uses Bayesian optimisation to find the best hyperparameters\n",
    "# fmin - method to minimise the objective function\n",
    "# tpe - Tree-structured Parzen Estimator, a Bayesian optimisation algorithm\n",
    "# hp - hyperopt library for defining the search space\n",
    "# STATUS_OK - status of the trial\n",
    "# Trials - class to keep track of the trials\n",
    "# scope - used to define the search space for hyperparameters"
   ]
  },
  {
   "cell_type": "markdown",
   "id": "c7ee903d",
   "metadata": {},
   "source": [
    "# Data"
   ]
  },
  {
   "cell_type": "markdown",
   "id": "2a928f3e",
   "metadata": {},
   "source": [
    "Use the following commands to download the data locally: \n",
    "- `mkdir /workspaces/mlops-zoomcamp-2025/01-intro/data`\n",
    "  \n",
    "- `cd 01-intro/data`\n",
    "  \n",
    "- `wget https://d37ci6vzurychx.cloudfront.net/trip-data/green_tripdata_2021-01.parquet` - download data for January, 2021\n",
    "\n",
    "- `wget https://d37ci6vzurychx.cloudfront.net/trip-data/green_tripdata_2021-02.parquet` - download data for February, 2021"
   ]
  },
  {
   "cell_type": "code",
   "execution_count": 6,
   "id": "7883bfb9",
   "metadata": {},
   "outputs": [
    {
     "name": "stdout",
     "output_type": "stream",
     "text": [
      "CPU times: user 42.6 ms, sys: 18.1 ms, total: 60.7 ms\n",
      "Wall time: 54.7 ms\n"
     ]
    }
   ],
   "source": [
    "%%time \n",
    "\n",
    "path_to_data = './data/green_tripdata_2021-01.parquet'\n",
    "df = pd.read_parquet(path_to_data)"
   ]
  },
  {
   "cell_type": "code",
   "execution_count": 7,
   "id": "97be40eb",
   "metadata": {},
   "outputs": [],
   "source": [
    "# Calculate target variable: trip duration\n",
    "df['duration'] = df['lpep_dropoff_datetime'] - df['lpep_pickup_datetime']\n",
    "\n",
    "# Convert duration to minutes\n",
    "df['duration'] = df['duration'].apply(lambda td: td.total_seconds() / 60)\n",
    "\n",
    "# Check percentage of data within 1 and 60 minute durations\n",
    "trip_duration_1_to_60_condition = (df['duration'] >= 1) & (df['duration'] <= 60)\n",
    "\n",
    "# Filter the data to only include trips with duration between 1 and 60 minutes\n",
    "df = df.loc[trip_duration_1_to_60_condition]"
   ]
  },
  {
   "cell_type": "markdown",
   "id": "a01dc9ac",
   "metadata": {},
   "source": [
    "# Feature Engineering"
   ]
  },
  {
   "cell_type": "code",
   "execution_count": 8,
   "id": "35401f67",
   "metadata": {},
   "outputs": [],
   "source": [
    "categorical = ['PULocationID', 'DOLocationID']\n",
    "numerical = ['trip_distance']"
   ]
  },
  {
   "cell_type": "code",
   "execution_count": null,
   "id": "f21a3247",
   "metadata": {},
   "outputs": [],
   "source": [
    "# Use one-hot encoding to convert categorical columns to numerical\n",
    "# One-hot encoding converts strings into categorical variables. Convert int64 to string first\n",
    "\n",
    "df[categorical] = df[categorical].astype(str)"
   ]
  },
  {
   "cell_type": "code",
   "execution_count": 10,
   "id": "6ac05b56",
   "metadata": {},
   "outputs": [
    {
     "name": "stdout",
     "output_type": "stream",
     "text": [
      "CPU times: user 266 ms, sys: 15.9 ms, total: 282 ms\n",
      "Wall time: 291 ms\n"
     ]
    }
   ],
   "source": [
    "%%time \n",
    "\n",
    "train_dicts = df[categorical + numerical].to_dict(orient='records')\n",
    "\n",
    "dv = DictVectorizer()\n",
    "X_train = dv.fit_transform(train_dicts)\n",
    "\n",
    "# Target variable\n",
    "target = 'duration'\n",
    "y_train = df[target].values"
   ]
  },
  {
   "cell_type": "markdown",
   "id": "c9afe61d",
   "metadata": {},
   "source": [
    "# Linear Regression"
   ]
  },
  {
   "cell_type": "code",
   "execution_count": 11,
   "id": "abc16f4d",
   "metadata": {},
   "outputs": [
    {
     "name": "stdout",
     "output_type": "stream",
     "text": [
      "CPU times: user 195 ms, sys: 1.97 ms, total: 197 ms\n",
      "Wall time: 31.8 ms\n"
     ]
    },
    {
     "data": {
      "text/plain": [
       "9.827368941909368"
      ]
     },
     "execution_count": 11,
     "metadata": {},
     "output_type": "execute_result"
    }
   ],
   "source": [
    "%%time \n",
    "\n",
    "lr = LinearRegression()\n",
    "lr.fit(X_train, y_train)\n",
    "\n",
    "# Make predictions\n",
    "y_pred = lr.predict(X_train)\n",
    "\n",
    "# Evaluate the performance of the model: use RMSE \n",
    "root_mean_squared_error(y_train, y_pred)"
   ]
  },
  {
   "cell_type": "markdown",
   "id": "549c4a33",
   "metadata": {},
   "source": [
    "# Function to pre-process the data"
   ]
  },
  {
   "cell_type": "code",
   "execution_count": 12,
   "id": "ba8a953f",
   "metadata": {},
   "outputs": [],
   "source": [
    "def read_dataframe(filename):\n",
    "    # Read in the data\n",
    "    df = pd.read_parquet(filename)\n",
    "\n",
    "    # Calculate target variable: trip duration\n",
    "    df['duration'] = df['lpep_dropoff_datetime'] - df['lpep_pickup_datetime']\n",
    "\n",
    "    # Convert duration to minutes\n",
    "    df['duration'] = df['duration'].apply(lambda td: td.total_seconds() / 60)\n",
    "\n",
    "    # Check percentage of data within 1 and 60 minute durations\n",
    "    trip_duration_1_to_60_condition = (df['duration'] >= 1) & (df['duration'] <= 60)\n",
    "    df = df.loc[trip_duration_1_to_60_condition]\n",
    "\n",
    "    # Feature engineering\n",
    "    categorical = ['PULocationID', 'DOLocationID']\n",
    "    df[categorical] = df[categorical].astype(str)\n",
    "\n",
    "    return df"
   ]
  },
  {
   "cell_type": "code",
   "execution_count": 13,
   "id": "c568a95c",
   "metadata": {},
   "outputs": [
    {
     "name": "stdout",
     "output_type": "stream",
     "text": [
      "CPU times: user 455 ms, sys: 47.9 ms, total: 503 ms\n",
      "Wall time: 468 ms\n"
     ]
    }
   ],
   "source": [
    "%%time \n",
    "\n",
    "df_train = read_dataframe('./data/green_tripdata_2021-01.parquet')\n",
    "df_val = read_dataframe('./data/green_tripdata_2021-02.parquet')"
   ]
  },
  {
   "cell_type": "code",
   "execution_count": 14,
   "id": "f46da74f",
   "metadata": {},
   "outputs": [
    {
     "data": {
      "text/plain": [
       "(73908, 61921)"
      ]
     },
     "execution_count": 14,
     "metadata": {},
     "output_type": "execute_result"
    }
   ],
   "source": [
    "# Check the size of dataframes\n",
    "len(df_train), len(df_val)"
   ]
  },
  {
   "cell_type": "code",
   "execution_count": 15,
   "id": "71e6e87e",
   "metadata": {},
   "outputs": [],
   "source": [
    "categorical = ['PULocationID', 'DOLocationID']\n",
    "numerical = ['trip_distance']\n",
    "\n",
    "dv = DictVectorizer()\n",
    "\n",
    "train_dicts = df_train[categorical + numerical].to_dict(orient='records')\n",
    "X_train = dv.fit_transform(train_dicts)\n",
    "\n",
    "val_dicts = df_val[categorical + numerical].to_dict(orient='records')\n",
    "X_val = dv.transform(val_dicts) # Notice, that we only transform the validation set, not fitting required"
   ]
  },
  {
   "cell_type": "code",
   "execution_count": 16,
   "id": "11e01f02",
   "metadata": {},
   "outputs": [],
   "source": [
    "target = 'duration'\n",
    "y_train = df_train[target].values\n",
    "y_val = df_val[target].values"
   ]
  },
  {
   "cell_type": "code",
   "execution_count": 17,
   "id": "00c6cdc1",
   "metadata": {},
   "outputs": [
    {
     "data": {
      "text/plain": [
       "10.496651120492572"
      ]
     },
     "execution_count": 17,
     "metadata": {},
     "output_type": "execute_result"
    }
   ],
   "source": [
    "lr = LinearRegression()\n",
    "lr.fit(X_train, y_train)\n",
    "\n",
    "y_pred = lr.predict(X_val)\n",
    "\n",
    "root_mean_squared_error(y_val, y_pred)"
   ]
  },
  {
   "cell_type": "markdown",
   "id": "33fe463a",
   "metadata": {},
   "source": [
    "# LASSO Regression"
   ]
  },
  {
   "cell_type": "code",
   "execution_count": 18,
   "id": "51cb9157",
   "metadata": {},
   "outputs": [
    {
     "data": {
      "text/plain": [
       "12.212583224318818"
      ]
     },
     "execution_count": 18,
     "metadata": {},
     "output_type": "execute_result"
    }
   ],
   "source": [
    "# Default parameters of Lasso\n",
    "lr = Lasso()\n",
    "lr.fit(X_train, y_train)\n",
    "\n",
    "y_pred = lr.predict(X_val)\n",
    "\n",
    "root_mean_squared_error(y_val, y_pred)"
   ]
  },
  {
   "cell_type": "code",
   "execution_count": 19,
   "id": "de89ccac",
   "metadata": {},
   "outputs": [
    {
     "data": {
      "text/plain": [
       "10.481255832596219"
      ]
     },
     "execution_count": 19,
     "metadata": {},
     "output_type": "execute_result"
    }
   ],
   "source": [
    "# Change default parameters of Lasso\n",
    "lr = Lasso(alpha=0.001)\n",
    "lr.fit(X_train, y_train)\n",
    "\n",
    "y_pred = lr.predict(X_val)\n",
    "\n",
    "root_mean_squared_error(y_val, y_pred)"
   ]
  },
  {
   "cell_type": "markdown",
   "id": "1f3ccaac",
   "metadata": {},
   "source": [
    "# Keeping track of runs with MLflow"
   ]
  },
  {
   "cell_type": "code",
   "execution_count": 21,
   "id": "31ea3385",
   "metadata": {},
   "outputs": [],
   "source": [
    "with mlflow.start_run(): # Start a new run. Everything below will be associated with this run\n",
    "    # Start logging information\n",
    "    mlflow.set_tag('developer', 'timur')\n",
    "\n",
    "    mlflow.log_param('train-data-path', './data/green_tripdata_2021-01.parquet') # Any parameters relevant to the model\n",
    "    mlflow.log_param('valid-data-path', './data/green_tripdata_2021-02.parquet') \n",
    "\n",
    "    \n",
    "    alpha = 0.1\n",
    "    mlflow.log_param('alpha', alpha)\n",
    "    lr = Lasso(alpha=alpha)\n",
    "    lr.fit(X_train, y_train)    \n",
    "    y_pred = lr.predict(X_val)\n",
    "    rmse = root_mean_squared_error(y_val, y_pred)\n",
    "\n",
    "    mlflow.log_metric('rmse', rmse)"
   ]
  },
  {
   "cell_type": "markdown",
   "id": "50a32c00",
   "metadata": {},
   "source": [
    "# Hyperparameter Tuning with MLflow"
   ]
  },
  {
   "cell_type": "code",
   "execution_count": 26,
   "id": "70581c00",
   "metadata": {},
   "outputs": [],
   "source": [
    "# To use XGBost, we need to convert the data into DMatrix format\n",
    "train = xgb.DMatrix(X_train, label=y_train)\n",
    "valid = xgb.DMatrix(X_val, label=y_val)"
   ]
  },
  {
   "cell_type": "code",
   "execution_count": 24,
   "id": "aa04b911",
   "metadata": {},
   "outputs": [],
   "source": [
    "# Define the objective function\n",
    "def objective(params):\n",
    "    # params - set of hyperparameters for XGBoost\n",
    "\n",
    "    with mlflow.start_run():\n",
    "        mlflow.set_tag(\"model\", \"xgboost\")\n",
    "        mlflow.log_params(params)\n",
    "        booster = xgb.train(\n",
    "            params=params,\n",
    "            dtrain=train,\n",
    "            num_boost_round=1000,\n",
    "            evals=[(valid, 'validation')],\n",
    "            early_stopping_rounds=50\n",
    "        )\n",
    "        y_pred = booster.predict(valid)\n",
    "        rmse = root_mean_squared_error(y_val, y_pred)\n",
    "        mlflow.log_metric(\"rmse\", rmse)\n",
    "\n",
    "    return {'loss': rmse, 'status': STATUS_OK}"
   ]
  },
  {
   "cell_type": "code",
   "execution_count": null,
   "id": "e500fbe3",
   "metadata": {},
   "outputs": [],
   "source": [
    "# Define the search space for hyperparameters\n",
    "search_space = {\n",
    "    'max_depth': scope.int(hp.quniform('max_depth', 4, 100, 1)),\n",
    "    'learning_rate': hp.loguniform('learning_rate', -3, 0), # values between exp(-3) and exp(0), -0.05 and 1\n",
    "    'reg_alpha': hp.loguniform('reg_alpha', -5, -1),\n",
    "    'reg_lambda': hp.loguniform('reg_lambda', -6, -1),\n",
    "    'min_child_weight': hp.loguniform('min_child_weight', -1, 3),\n",
    "    'objective': 'reg:linear', # reg:linear is now deprecated in favor of reg:squarederror\n",
    "    'seed': 42\n",
    "}"
   ]
  },
  {
   "cell_type": "code",
   "execution_count": null,
   "id": "29dad68e",
   "metadata": {},
   "outputs": [],
   "source": [
    "# Pass the information about objective function and search space to fmin\n",
    "best_result = fmin(\n",
    "    fn=objective,\n",
    "    space=search_space,\n",
    "    algo=tpe.suggest, # Alogorithm to use for hyperparameter tuning\n",
    "    max_evals=50,\n",
    "    trials=Trials(),\n",
    "    verbose=False # Set to True to see the progress of the trials\n",
    ")"
   ]
  },
  {
   "cell_type": "markdown",
   "id": "01292684",
   "metadata": {},
   "source": [
    "# Train the model with the best hyperparameters"
   ]
  },
  {
   "cell_type": "code",
   "execution_count": 28,
   "id": "bf64c780",
   "metadata": {},
   "outputs": [
    {
     "name": "stderr",
     "output_type": "stream",
     "text": [
      "2025/05/23 20:23:42 WARNING mlflow.utils.autologging_utils: MLflow xgboost autologging is known to be compatible with 1.4.2 <= xgboost <= 3.0.0, but the installed version is 3.0.1. If you encounter errors during autologging, try upgrading / downgrading xgboost to a compatible version, or try upgrading MLflow.\n",
      "2025/05/23 20:23:42 INFO mlflow.utils.autologging_utils: Created MLflow autologging run with ID '89947b2c3e9b42499a6ab382256a4f44', which will track hyperparameters, performance metrics, model artifacts, and lineage information for the current xgboost workflow\n"
     ]
    },
    {
     "name": "stdout",
     "output_type": "stream",
     "text": [
      "[0]\tvalidation-rmse:11.06559\n",
      "[1]\tvalidation-rmse:10.13502\n",
      "[2]\tvalidation-rmse:9.38665\n",
      "[3]\tvalidation-rmse:8.78767\n",
      "[4]\tvalidation-rmse:8.30662\n",
      "[5]\tvalidation-rmse:7.92792\n",
      "[6]\tvalidation-rmse:7.63116\n"
     ]
    },
    {
     "name": "stderr",
     "output_type": "stream",
     "text": [
      "/workspaces/mlops-zoomcamp-2025/venvs/mlops/lib/python3.12/site-packages/xgboost/callback.py:386: UserWarning: [20:23:43] WARNING: /workspace/src/objective/regression_obj.cu:250: reg:linear is now deprecated in favor of reg:squarederror.\n",
      "  self.starting_round = model.num_boosted_rounds()\n"
     ]
    },
    {
     "name": "stdout",
     "output_type": "stream",
     "text": [
      "[7]\tvalidation-rmse:7.39648\n",
      "[8]\tvalidation-rmse:7.21185\n",
      "[9]\tvalidation-rmse:7.06555\n",
      "[10]\tvalidation-rmse:6.94930\n",
      "[11]\tvalidation-rmse:6.85803\n",
      "[12]\tvalidation-rmse:6.78439\n",
      "[13]\tvalidation-rmse:6.72441\n",
      "[14]\tvalidation-rmse:6.67701\n",
      "[15]\tvalidation-rmse:6.63710\n",
      "[16]\tvalidation-rmse:6.60459\n",
      "[17]\tvalidation-rmse:6.57596\n",
      "[18]\tvalidation-rmse:6.55295\n",
      "[19]\tvalidation-rmse:6.53178\n",
      "[20]\tvalidation-rmse:6.51358\n",
      "[21]\tvalidation-rmse:6.49698\n",
      "[22]\tvalidation-rmse:6.48501\n",
      "[23]\tvalidation-rmse:6.47471\n",
      "[24]\tvalidation-rmse:6.46294\n",
      "[25]\tvalidation-rmse:6.45325\n",
      "[26]\tvalidation-rmse:6.44399\n",
      "[27]\tvalidation-rmse:6.43476\n",
      "[28]\tvalidation-rmse:6.42930\n",
      "[29]\tvalidation-rmse:6.42158\n",
      "[30]\tvalidation-rmse:6.41581\n",
      "[31]\tvalidation-rmse:6.40956\n",
      "[32]\tvalidation-rmse:6.40459\n",
      "[33]\tvalidation-rmse:6.39820\n",
      "[34]\tvalidation-rmse:6.39564\n",
      "[35]\tvalidation-rmse:6.39000\n",
      "[36]\tvalidation-rmse:6.38642\n",
      "[37]\tvalidation-rmse:6.37872\n",
      "[38]\tvalidation-rmse:6.37539\n",
      "[39]\tvalidation-rmse:6.37372\n",
      "[40]\tvalidation-rmse:6.36905\n",
      "[41]\tvalidation-rmse:6.36683\n",
      "[42]\tvalidation-rmse:6.36148\n",
      "[43]\tvalidation-rmse:6.35880\n",
      "[44]\tvalidation-rmse:6.35492\n",
      "[45]\tvalidation-rmse:6.35201\n",
      "[46]\tvalidation-rmse:6.34777\n",
      "[47]\tvalidation-rmse:6.34363\n",
      "[48]\tvalidation-rmse:6.34049\n",
      "[49]\tvalidation-rmse:6.33958\n",
      "[50]\tvalidation-rmse:6.33814\n",
      "[51]\tvalidation-rmse:6.33489\n",
      "[52]\tvalidation-rmse:6.33109\n",
      "[53]\tvalidation-rmse:6.32924\n",
      "[54]\tvalidation-rmse:6.32699\n",
      "[55]\tvalidation-rmse:6.32320\n",
      "[56]\tvalidation-rmse:6.31860\n",
      "[57]\tvalidation-rmse:6.31608\n",
      "[58]\tvalidation-rmse:6.31307\n",
      "[59]\tvalidation-rmse:6.31124\n",
      "[60]\tvalidation-rmse:6.31016\n",
      "[61]\tvalidation-rmse:6.30660\n",
      "[62]\tvalidation-rmse:6.30403\n",
      "[63]\tvalidation-rmse:6.30199\n",
      "[64]\tvalidation-rmse:6.29991\n",
      "[65]\tvalidation-rmse:6.29823\n",
      "[66]\tvalidation-rmse:6.29558\n",
      "[67]\tvalidation-rmse:6.29352\n",
      "[68]\tvalidation-rmse:6.29256\n",
      "[69]\tvalidation-rmse:6.29071\n",
      "[70]\tvalidation-rmse:6.28941\n",
      "[71]\tvalidation-rmse:6.28837\n",
      "[72]\tvalidation-rmse:6.28586\n",
      "[73]\tvalidation-rmse:6.28294\n",
      "[74]\tvalidation-rmse:6.28155\n",
      "[75]\tvalidation-rmse:6.27967\n",
      "[76]\tvalidation-rmse:6.27877\n",
      "[77]\tvalidation-rmse:6.27754\n",
      "[78]\tvalidation-rmse:6.27372\n",
      "[79]\tvalidation-rmse:6.27180\n",
      "[80]\tvalidation-rmse:6.26910\n",
      "[81]\tvalidation-rmse:6.26800\n",
      "[82]\tvalidation-rmse:6.26662\n",
      "[83]\tvalidation-rmse:6.26581\n",
      "[84]\tvalidation-rmse:6.26412\n",
      "[85]\tvalidation-rmse:6.26376\n",
      "[86]\tvalidation-rmse:6.26323\n",
      "[87]\tvalidation-rmse:6.26234\n",
      "[88]\tvalidation-rmse:6.26055\n",
      "[89]\tvalidation-rmse:6.25832\n",
      "[90]\tvalidation-rmse:6.25748\n",
      "[91]\tvalidation-rmse:6.25654\n",
      "[92]\tvalidation-rmse:6.25525\n",
      "[93]\tvalidation-rmse:6.25445\n",
      "[94]\tvalidation-rmse:6.25382\n",
      "[95]\tvalidation-rmse:6.25139\n",
      "[96]\tvalidation-rmse:6.24921\n",
      "[97]\tvalidation-rmse:6.24845\n",
      "[98]\tvalidation-rmse:6.24718\n",
      "[99]\tvalidation-rmse:6.24564\n",
      "[100]\tvalidation-rmse:6.24484\n",
      "[101]\tvalidation-rmse:6.24393\n",
      "[102]\tvalidation-rmse:6.24261\n",
      "[103]\tvalidation-rmse:6.24175\n",
      "[104]\tvalidation-rmse:6.24099\n",
      "[105]\tvalidation-rmse:6.24020\n",
      "[106]\tvalidation-rmse:6.23899\n",
      "[107]\tvalidation-rmse:6.23840\n",
      "[108]\tvalidation-rmse:6.23782\n",
      "[109]\tvalidation-rmse:6.23365\n",
      "[110]\tvalidation-rmse:6.23299\n",
      "[111]\tvalidation-rmse:6.23043\n",
      "[112]\tvalidation-rmse:6.23003\n",
      "[113]\tvalidation-rmse:6.22925\n",
      "[114]\tvalidation-rmse:6.22832\n",
      "[115]\tvalidation-rmse:6.22751\n",
      "[116]\tvalidation-rmse:6.22702\n",
      "[117]\tvalidation-rmse:6.22580\n",
      "[118]\tvalidation-rmse:6.22503\n",
      "[119]\tvalidation-rmse:6.22403\n",
      "[120]\tvalidation-rmse:6.22357\n",
      "[121]\tvalidation-rmse:6.22186\n",
      "[122]\tvalidation-rmse:6.22156\n",
      "[123]\tvalidation-rmse:6.21991\n",
      "[124]\tvalidation-rmse:6.21935\n",
      "[125]\tvalidation-rmse:6.21755\n",
      "[126]\tvalidation-rmse:6.21663\n",
      "[127]\tvalidation-rmse:6.21608\n",
      "[128]\tvalidation-rmse:6.21575\n",
      "[129]\tvalidation-rmse:6.21512\n",
      "[130]\tvalidation-rmse:6.21491\n",
      "[131]\tvalidation-rmse:6.21326\n",
      "[132]\tvalidation-rmse:6.21195\n",
      "[133]\tvalidation-rmse:6.21086\n",
      "[134]\tvalidation-rmse:6.21030\n",
      "[135]\tvalidation-rmse:6.21055\n",
      "[136]\tvalidation-rmse:6.20953\n",
      "[137]\tvalidation-rmse:6.20940\n",
      "[138]\tvalidation-rmse:6.20835\n",
      "[139]\tvalidation-rmse:6.20781\n",
      "[140]\tvalidation-rmse:6.20787\n",
      "[141]\tvalidation-rmse:6.20611\n",
      "[142]\tvalidation-rmse:6.20514\n",
      "[143]\tvalidation-rmse:6.20477\n",
      "[144]\tvalidation-rmse:6.20481\n",
      "[145]\tvalidation-rmse:6.20448\n",
      "[146]\tvalidation-rmse:6.20310\n",
      "[147]\tvalidation-rmse:6.20148\n",
      "[148]\tvalidation-rmse:6.19993\n",
      "[149]\tvalidation-rmse:6.19880\n",
      "[150]\tvalidation-rmse:6.19868\n",
      "[151]\tvalidation-rmse:6.19807\n",
      "[152]\tvalidation-rmse:6.19585\n",
      "[153]\tvalidation-rmse:6.19605\n",
      "[154]\tvalidation-rmse:6.19546\n",
      "[155]\tvalidation-rmse:6.19523\n",
      "[156]\tvalidation-rmse:6.19406\n",
      "[157]\tvalidation-rmse:6.19324\n",
      "[158]\tvalidation-rmse:6.19304\n",
      "[159]\tvalidation-rmse:6.19281\n",
      "[160]\tvalidation-rmse:6.19243\n",
      "[161]\tvalidation-rmse:6.19175\n",
      "[162]\tvalidation-rmse:6.19161\n",
      "[163]\tvalidation-rmse:6.19138\n",
      "[164]\tvalidation-rmse:6.19141\n",
      "[165]\tvalidation-rmse:6.19043\n",
      "[166]\tvalidation-rmse:6.18933\n",
      "[167]\tvalidation-rmse:6.18863\n",
      "[168]\tvalidation-rmse:6.18795\n",
      "[169]\tvalidation-rmse:6.18781\n",
      "[170]\tvalidation-rmse:6.18719\n",
      "[171]\tvalidation-rmse:6.18655\n",
      "[172]\tvalidation-rmse:6.18505\n",
      "[173]\tvalidation-rmse:6.18531\n",
      "[174]\tvalidation-rmse:6.18564\n",
      "[175]\tvalidation-rmse:6.18510\n",
      "[176]\tvalidation-rmse:6.18503\n",
      "[177]\tvalidation-rmse:6.18479\n",
      "[178]\tvalidation-rmse:6.18509\n",
      "[179]\tvalidation-rmse:6.18531\n",
      "[180]\tvalidation-rmse:6.18530\n",
      "[181]\tvalidation-rmse:6.18449\n",
      "[182]\tvalidation-rmse:6.18420\n",
      "[183]\tvalidation-rmse:6.18389\n",
      "[184]\tvalidation-rmse:6.18325\n",
      "[185]\tvalidation-rmse:6.18302\n",
      "[186]\tvalidation-rmse:6.18220\n",
      "[187]\tvalidation-rmse:6.18244\n",
      "[188]\tvalidation-rmse:6.18263\n",
      "[189]\tvalidation-rmse:6.18132\n",
      "[190]\tvalidation-rmse:6.17978\n",
      "[191]\tvalidation-rmse:6.17963\n",
      "[192]\tvalidation-rmse:6.17967\n",
      "[193]\tvalidation-rmse:6.17879\n",
      "[194]\tvalidation-rmse:6.17893\n",
      "[195]\tvalidation-rmse:6.17825\n",
      "[196]\tvalidation-rmse:6.17777\n",
      "[197]\tvalidation-rmse:6.17807\n",
      "[198]\tvalidation-rmse:6.17764\n",
      "[199]\tvalidation-rmse:6.17664\n",
      "[200]\tvalidation-rmse:6.17616\n",
      "[201]\tvalidation-rmse:6.17447\n",
      "[202]\tvalidation-rmse:6.17480\n",
      "[203]\tvalidation-rmse:6.17417\n",
      "[204]\tvalidation-rmse:6.17416\n",
      "[205]\tvalidation-rmse:6.17421\n",
      "[206]\tvalidation-rmse:6.17386\n",
      "[207]\tvalidation-rmse:6.17390\n",
      "[208]\tvalidation-rmse:6.17344\n",
      "[209]\tvalidation-rmse:6.17185\n",
      "[210]\tvalidation-rmse:6.17175\n",
      "[211]\tvalidation-rmse:6.17146\n",
      "[212]\tvalidation-rmse:6.17121\n",
      "[213]\tvalidation-rmse:6.17052\n",
      "[214]\tvalidation-rmse:6.17061\n",
      "[215]\tvalidation-rmse:6.17050\n",
      "[216]\tvalidation-rmse:6.17049\n",
      "[217]\tvalidation-rmse:6.17035\n",
      "[218]\tvalidation-rmse:6.16990\n",
      "[219]\tvalidation-rmse:6.16836\n",
      "[220]\tvalidation-rmse:6.16818\n",
      "[221]\tvalidation-rmse:6.16788\n",
      "[222]\tvalidation-rmse:6.16770\n",
      "[223]\tvalidation-rmse:6.16762\n",
      "[224]\tvalidation-rmse:6.16721\n",
      "[225]\tvalidation-rmse:6.16670\n",
      "[226]\tvalidation-rmse:6.16692\n",
      "[227]\tvalidation-rmse:6.16533\n",
      "[228]\tvalidation-rmse:6.16523\n",
      "[229]\tvalidation-rmse:6.16576\n",
      "[230]\tvalidation-rmse:6.16575\n",
      "[231]\tvalidation-rmse:6.16556\n",
      "[232]\tvalidation-rmse:6.16478\n",
      "[233]\tvalidation-rmse:6.16435\n",
      "[234]\tvalidation-rmse:6.16462\n",
      "[235]\tvalidation-rmse:6.16497\n",
      "[236]\tvalidation-rmse:6.16417\n",
      "[237]\tvalidation-rmse:6.16397\n",
      "[238]\tvalidation-rmse:6.16382\n",
      "[239]\tvalidation-rmse:6.16271\n",
      "[240]\tvalidation-rmse:6.16255\n",
      "[241]\tvalidation-rmse:6.16220\n",
      "[242]\tvalidation-rmse:6.16181\n",
      "[243]\tvalidation-rmse:6.16212\n",
      "[244]\tvalidation-rmse:6.16213\n",
      "[245]\tvalidation-rmse:6.16181\n",
      "[246]\tvalidation-rmse:6.16075\n",
      "[247]\tvalidation-rmse:6.16056\n",
      "[248]\tvalidation-rmse:6.16030\n",
      "[249]\tvalidation-rmse:6.15926\n",
      "[250]\tvalidation-rmse:6.15956\n",
      "[251]\tvalidation-rmse:6.15960\n",
      "[252]\tvalidation-rmse:6.15984\n",
      "[253]\tvalidation-rmse:6.15939\n",
      "[254]\tvalidation-rmse:6.15916\n",
      "[255]\tvalidation-rmse:6.15787\n",
      "[256]\tvalidation-rmse:6.15734\n",
      "[257]\tvalidation-rmse:6.15718\n",
      "[258]\tvalidation-rmse:6.15619\n",
      "[259]\tvalidation-rmse:6.15596\n",
      "[260]\tvalidation-rmse:6.15608\n",
      "[261]\tvalidation-rmse:6.15578\n",
      "[262]\tvalidation-rmse:6.15581\n",
      "[263]\tvalidation-rmse:6.15568\n",
      "[264]\tvalidation-rmse:6.15435\n",
      "[265]\tvalidation-rmse:6.15430\n",
      "[266]\tvalidation-rmse:6.15398\n",
      "[267]\tvalidation-rmse:6.15427\n",
      "[268]\tvalidation-rmse:6.15385\n",
      "[269]\tvalidation-rmse:6.15363\n",
      "[270]\tvalidation-rmse:6.15387\n",
      "[271]\tvalidation-rmse:6.15392\n",
      "[272]\tvalidation-rmse:6.15410\n",
      "[273]\tvalidation-rmse:6.15376\n",
      "[274]\tvalidation-rmse:6.15325\n",
      "[275]\tvalidation-rmse:6.15316\n",
      "[276]\tvalidation-rmse:6.15317\n",
      "[277]\tvalidation-rmse:6.15341\n",
      "[278]\tvalidation-rmse:6.15366\n",
      "[279]\tvalidation-rmse:6.15374\n",
      "[280]\tvalidation-rmse:6.15391\n",
      "[281]\tvalidation-rmse:6.15380\n",
      "[282]\tvalidation-rmse:6.15399\n",
      "[283]\tvalidation-rmse:6.15366\n",
      "[284]\tvalidation-rmse:6.15360\n",
      "[285]\tvalidation-rmse:6.15366\n",
      "[286]\tvalidation-rmse:6.15415\n",
      "[287]\tvalidation-rmse:6.15424\n",
      "[288]\tvalidation-rmse:6.15403\n",
      "[289]\tvalidation-rmse:6.15439\n",
      "[290]\tvalidation-rmse:6.15461\n",
      "[291]\tvalidation-rmse:6.15415\n",
      "[292]\tvalidation-rmse:6.15423\n",
      "[293]\tvalidation-rmse:6.15419\n",
      "[294]\tvalidation-rmse:6.15407\n",
      "[295]\tvalidation-rmse:6.15372\n",
      "[296]\tvalidation-rmse:6.15320\n",
      "[297]\tvalidation-rmse:6.15348\n",
      "[298]\tvalidation-rmse:6.15357\n",
      "[299]\tvalidation-rmse:6.15352\n",
      "[300]\tvalidation-rmse:6.15343\n",
      "[301]\tvalidation-rmse:6.15253\n",
      "[302]\tvalidation-rmse:6.15295\n",
      "[303]\tvalidation-rmse:6.15269\n",
      "[304]\tvalidation-rmse:6.15262\n",
      "[305]\tvalidation-rmse:6.15260\n",
      "[306]\tvalidation-rmse:6.15283\n",
      "[307]\tvalidation-rmse:6.15238\n",
      "[308]\tvalidation-rmse:6.15249\n",
      "[309]\tvalidation-rmse:6.15186\n",
      "[310]\tvalidation-rmse:6.15204\n",
      "[311]\tvalidation-rmse:6.15116\n",
      "[312]\tvalidation-rmse:6.15121\n",
      "[313]\tvalidation-rmse:6.15091\n",
      "[314]\tvalidation-rmse:6.15104\n",
      "[315]\tvalidation-rmse:6.15027\n",
      "[316]\tvalidation-rmse:6.15089\n",
      "[317]\tvalidation-rmse:6.15069\n",
      "[318]\tvalidation-rmse:6.15027\n",
      "[319]\tvalidation-rmse:6.15032\n",
      "[320]\tvalidation-rmse:6.15007\n",
      "[321]\tvalidation-rmse:6.15030\n",
      "[322]\tvalidation-rmse:6.15018\n",
      "[323]\tvalidation-rmse:6.14975\n",
      "[324]\tvalidation-rmse:6.14993\n",
      "[325]\tvalidation-rmse:6.14951\n",
      "[326]\tvalidation-rmse:6.14984\n",
      "[327]\tvalidation-rmse:6.15000\n",
      "[328]\tvalidation-rmse:6.14974\n",
      "[329]\tvalidation-rmse:6.14992\n",
      "[330]\tvalidation-rmse:6.15000\n",
      "[331]\tvalidation-rmse:6.15027\n",
      "[332]\tvalidation-rmse:6.15067\n",
      "[333]\tvalidation-rmse:6.15047\n",
      "[334]\tvalidation-rmse:6.15051\n",
      "[335]\tvalidation-rmse:6.15043\n",
      "[336]\tvalidation-rmse:6.15030\n",
      "[337]\tvalidation-rmse:6.15059\n",
      "[338]\tvalidation-rmse:6.15086\n",
      "[339]\tvalidation-rmse:6.15117\n",
      "[340]\tvalidation-rmse:6.15158\n",
      "[341]\tvalidation-rmse:6.15132\n",
      "[342]\tvalidation-rmse:6.15134\n",
      "[343]\tvalidation-rmse:6.15140\n",
      "[344]\tvalidation-rmse:6.15149\n",
      "[345]\tvalidation-rmse:6.15186\n",
      "[346]\tvalidation-rmse:6.15093\n",
      "[347]\tvalidation-rmse:6.15049\n",
      "[348]\tvalidation-rmse:6.15078\n",
      "[349]\tvalidation-rmse:6.15113\n",
      "[350]\tvalidation-rmse:6.15138\n",
      "[351]\tvalidation-rmse:6.15147\n",
      "[352]\tvalidation-rmse:6.15116\n",
      "[353]\tvalidation-rmse:6.15135\n",
      "[354]\tvalidation-rmse:6.15163\n",
      "[355]\tvalidation-rmse:6.15141\n",
      "[356]\tvalidation-rmse:6.15181\n",
      "[357]\tvalidation-rmse:6.15176\n",
      "[358]\tvalidation-rmse:6.15185\n",
      "[359]\tvalidation-rmse:6.15205\n",
      "[360]\tvalidation-rmse:6.15234\n",
      "[361]\tvalidation-rmse:6.15244\n",
      "[362]\tvalidation-rmse:6.15291\n",
      "[363]\tvalidation-rmse:6.15278\n",
      "[364]\tvalidation-rmse:6.15262\n",
      "[365]\tvalidation-rmse:6.15276\n",
      "[366]\tvalidation-rmse:6.15347\n",
      "[367]\tvalidation-rmse:6.15299\n",
      "[368]\tvalidation-rmse:6.15283\n",
      "[369]\tvalidation-rmse:6.15281\n",
      "[370]\tvalidation-rmse:6.15254\n",
      "[371]\tvalidation-rmse:6.15251\n",
      "[372]\tvalidation-rmse:6.15212\n",
      "[373]\tvalidation-rmse:6.15223\n",
      "[374]\tvalidation-rmse:6.15272\n",
      "[375]\tvalidation-rmse:6.15229\n"
     ]
    },
    {
     "name": "stderr",
     "output_type": "stream",
     "text": [
      "2025/05/23 20:23:49 WARNING mlflow.xgboost: Failed to infer model signature: could not sample data to infer model signature: please ensure that autologging is enabled before constructing the dataset.\n",
      "2025/05/23 20:23:49 WARNING mlflow.utils.autologging_utils: MLflow autologging encountered a warning: \"/workspaces/mlops-zoomcamp-2025/venvs/mlops/lib/python3.12/site-packages/mlflow/xgboost/__init__.py:168: UserWarning: [20:23:49] WARNING: /workspace/src/c_api/c_api.cc:1427: Saving model in the UBJSON format as default.  You can use file extension: `json`, `ubj` or `deprecated` to choose between formats.\"\n",
      "\u001b[31m2025/05/23 20:23:53 WARNING mlflow.models.model: Model logged without a signature and input example. Please set `input_example` parameter when logging the model to auto infer the model signature.\u001b[0m\n"
     ]
    }
   ],
   "source": [
    "# Based on the results of the 50 runs, get the model with the lowest RMSE\n",
    "\n",
    "params = {\n",
    "    \"learning_rate\": 0.14539214740033007,\n",
    "    \"max_depth\": 11,\n",
    "    \"min_child_weight\": 3.4888218672829265,\n",
    "    \"objective\": \"reg:linear\",\n",
    "    \"reg_alpha\": 0.012807793708352775,\n",
    "    \"reg_lambda\": 0.25871874053728533,\n",
    "    \"seed\": 42\n",
    "}\n",
    "\n",
    "# Use autologging to log the parameters. This simplifies the process of logging parameters and metrics\n",
    "mlflow.xgboost.autolog()\n",
    "\n",
    "booster = xgb.train(\n",
    "    params=params,\n",
    "    dtrain=train,\n",
    "    num_boost_round=1000,\n",
    "    evals=[(valid, 'validation')],\n",
    "    early_stopping_rounds=50\n",
    ")"
   ]
  },
  {
   "cell_type": "markdown",
   "id": "1674affb",
   "metadata": {},
   "source": [
    "# Saving the Model"
   ]
  },
  {
   "cell_type": "code",
   "execution_count": 127,
   "id": "eaf732f2",
   "metadata": {},
   "outputs": [
    {
     "name": "stdout",
     "output_type": "stream",
     "text": [
      "CPU times: user 7.09 ms, sys: 0 ns, total: 7.09 ms\n",
      "Wall time: 15.2 ms\n"
     ]
    }
   ],
   "source": [
    "%%time \n",
    "\n",
    "# Save the dictionary vectoriser and selected model\n",
    "# mode wb - write binary\n",
    "with open('./models/lin_reg.bin', 'wb') as f_out:\n",
    "    pickle.dump((dv, lr), f_out)"
   ]
  }
 ],
 "metadata": {
  "kernelspec": {
   "display_name": "mlops",
   "language": "python",
   "name": "python3"
  },
  "language_info": {
   "codemirror_mode": {
    "name": "ipython",
    "version": 3
   },
   "file_extension": ".py",
   "mimetype": "text/x-python",
   "name": "python",
   "nbconvert_exporter": "python",
   "pygments_lexer": "ipython3",
   "version": "3.12.1"
  }
 },
 "nbformat": 4,
 "nbformat_minor": 5
}
